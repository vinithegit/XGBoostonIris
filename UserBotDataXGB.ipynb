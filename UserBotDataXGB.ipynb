{
 "cells": [
  {
   "cell_type": "code",
   "execution_count": 1,
   "metadata": {
    "collapsed": true
   },
   "outputs": [],
   "source": [
    "# Importing libraries\n",
    "import pandas as pd\n",
    "import numpy as np\n",
    "from pandas import read_csv\n",
    "from xgboost import XGBClassifier\n",
    "from sklearn.preprocessing import LabelEncoder\n",
    "import time\n",
    "from matplotlib import pyplot"
   ]
  },
  {
   "cell_type": "code",
   "execution_count": 33,
   "metadata": {
    "collapsed": true
   },
   "outputs": [],
   "source": [
    "user_data=read_csv('userData',sep='\\t', names=['averageDeltaClickTime','averageDeltaDwellTime','averageDeltaFlightTime',\n",
    "                                      'averageDwellTime','averageFlightTime','averageMouseAcceleration','averageMouseCurvature',\n",
    "                                      'averageMouseSpeed','deltaClickTimeInterQuartileRange','deltaClickTimeKurtosis','deltaClickTimeSkewness',\n",
    "                                      'deltaClickTimeVariance','dwellTimeInterQuartileRange','dwellTimeKurtosis','dwellTimeSkewness',\n",
    "                                      'dwellTimeVariance','flightTimeInterQuartileRange','flightTimeKurtosis','flightTimeSkewness',\n",
    "                                      'flightTimeVariance','mouseAccelerationInterQuartileRange','mouseAccelerationKurtosis',\n",
    "                                      'mouseAccelerationSkewness','mouseAccelerationVariance','mouseCurvatureInterQuartileRange',\n",
    "                                      'mouseCurvatureKurtosis','mouseCurvatureSkewness','mouseCurvatureVariance',\n",
    "                                      'mouseSpeedInterQuartileRange',\n",
    "                                      'mouseSpeedKurtosis','mouseSpeedSkewness','mouseSpeedVariance'])\n",
    "user_data=user_data.sample(frac=0.002)\n",
    "user_data['class_label'] =0\n",
    "bot_data=read_csv('botData', sep='\\t', names=['averageDeltaClickTime','averageDeltaDwellTime','averageDeltaFlightTime',\n",
    "                                      'averageDwellTime','averageFlightTime','averageMouseAcceleration','averageMouseCurvature',\n",
    "                                      'averageMouseSpeed','deltaClickTimeInterQuartileRange','deltaClickTimeKurtosis','deltaClickTimeSkewness',\n",
    "                                      'deltaClickTimeVariance','dwellTimeInterQuartileRange','dwellTimeKurtosis','dwellTimeSkewness',\n",
    "                                      'dwellTimeVariance','flightTimeInterQuartileRange','flightTimeKurtosis','flightTimeSkewness',\n",
    "                                      'flightTimeVariance','mouseAccelerationInterQuartileRange','mouseAccelerationKurtosis',\n",
    "                                      'mouseAccelerationSkewness','mouseAccelerationVariance','mouseCurvatureInterQuartileRange',\n",
    "                                      'mouseCurvatureKurtosis','mouseCurvatureSkewness','mouseCurvatureVariance',\n",
    "                                      'mouseSpeedInterQuartileRange',\n",
    "                                      'mouseSpeedKurtosis','mouseSpeedSkewness','mouseSpeedVariance'])\n",
    "bot_data=bot_data.sample(frac=1)\n",
    "bot_data['class_label']=1\n"
   ]
  },
  {
   "cell_type": "code",
   "execution_count": 34,
   "metadata": {},
   "outputs": [],
   "source": [
    "frames=[user_data, bot_data]\n",
    "data=pd.concat(frames)\n",
    "data=data.sample(frac=1)\n",
    "dataset=data.values"
   ]
  },
  {
   "cell_type": "code",
   "execution_count": 35,
   "metadata": {
    "collapsed": true
   },
   "outputs": [],
   "source": [
    "X=dataset[:, :4]\n",
    "y=dataset[:,-1]\n",
    "#Encode string class as integers\n",
    "label_encoded_y=LabelEncoder().fit_transform(y)"
   ]
  },
  {
   "cell_type": "code",
   "execution_count": 36,
   "metadata": {},
   "outputs": [
    {
     "name": "stdout",
     "output_type": "stream",
     "text": [
      "1 0.03746795654296875\n",
      "2 0.020099878311157227\n",
      "3 0.017596006393432617\n",
      "4 0.019011974334716797\n"
     ]
    },
    {
     "data": {
      "image/png": "[encoded data removed]",
      "text/plain": [
       "<matplotlib.figure.Figure at 0x110a35b00>"
      ]
     },
     "metadata": {},
     "output_type": "display_data"
    }
   ],
   "source": [
    "result=[]\n",
    "num_threads=[1,2,3,4]\n",
    "for n in num_threads:\n",
    "    start=time.time()\n",
    "    model=XGBClassifier(nthread=n)\n",
    "    model.fit(X,label_encoded_y)\n",
    "    elapsed=time.time()-start\n",
    "    print(n,elapsed)\n",
    "    result.append(elapsed)\n",
    "pyplot.plot(num_threads,result)\n",
    "pyplot.ylabel('Speed(secs)')\n",
    "pyplot.xlabel('No of threads')\n",
    "pyplot.title(\"XGBoost training speed vs No of threads\")\n",
    "pyplot.show()"
   ]
  },
  {
   "cell_type": "code",
   "execution_count": 37,
   "metadata": {
    "collapsed": true
   },
   "outputs": [],
   "source": [
    "from sklearn.model_selection import train_test_split\n",
    "seed=7\n",
    "test_size=0.33\n",
    "X_train, X_test, y_train, y_test=train_test_split(X, label_encoded_y, test_size=test_size, random_state=seed)"
   ]
  },
  {
   "cell_type": "code",
   "execution_count": 38,
   "metadata": {},
   "outputs": [
    {
     "data": {
      "text/plain": [
       "XGBClassifier(base_score=0.5, booster='gbtree', colsample_bylevel=1,\n",
       "       colsample_bytree=1, gamma=0, learning_rate=0.1, max_delta_step=0,\n",
       "       max_depth=3, min_child_weight=1, missing=None, n_estimators=100,\n",
       "       n_jobs=1, nthread=None, objective='binary:logistic', random_state=0,\n",
       "       reg_alpha=0, reg_lambda=1, scale_pos_weight=1, seed=None,\n",
       "       silent=True, subsample=1)"
      ]
     },
     "execution_count": 38,
     "metadata": {},
     "output_type": "execute_result"
    }
   ],
   "source": [
    "model=XGBClassifier()\n",
    "model.fit(X_train, y_train)"
   ]
  },
  {
   "cell_type": "code",
   "execution_count": 39,
   "metadata": {},
   "outputs": [
    {
     "name": "stdout",
     "output_type": "stream",
     "text": [
      "Accuracy: 57.84%\n"
     ]
    }
   ],
   "source": [
    "from sklearn.metrics import accuracy_score\n",
    "y_pred=model.predict(X_test)\n",
    "predictions=[round(value) for value in y_pred]\n",
    "accuracy=accuracy_score(y_test,predictions)\n",
    "print(\"Accuracy: %.2f%%\" % (accuracy *100))"
   ]
  },
  {
   "cell_type": "code",
   "execution_count": 40,
   "metadata": {
    "collapsed": true
   },
   "outputs": [],
   "source": [
    "#K-Fold validation\n",
    "from sklearn.model_selection import StratifiedKFold\n",
    "from sklearn.model_selection import cross_val_score\n",
    "from sklearn.preprocessing import LabelEncoder\n",
    "kfold=StratifiedKFold(n_splits=10, shuffle=True, random_state=7)"
   ]
  },
  {
   "cell_type": "code",
   "execution_count": 41,
   "metadata": {},
   "outputs": [
    {
     "name": "stdout",
     "output_type": "stream",
     "text": [
      "[ 0.53125     0.71875     0.71875     0.64516129  0.48387097  0.67741935\n",
      "  0.66666667  0.4         0.7         0.7       ]\n",
      "Parallel thread XGBoost and CV: 0.832322 sec\n"
     ]
    }
   ],
   "source": [
    "#Parallel thread XGBoost and CV\n",
    "start=time.time()\n",
    "model=XGBClassifier(nthread=-1)\n",
    "results=cross_val_score(model, X, label_encoded_y,cv=kfold,  n_jobs=-1)\n",
    "elapsed=time.time()-start\n",
    "print(results)\n",
    "print(\"Parallel thread XGBoost and CV: %f sec\" % (elapsed))"
   ]
  },
  {
   "cell_type": "code",
   "execution_count": null,
   "metadata": {
    "collapsed": true
   },
   "outputs": [],
   "source": []
  }
 ],
 "metadata": {
  "kernelspec": {
   "display_name": "Python 3",
   "language": "python",
   "name": "python3"
  },
  "language_info": {
   "codemirror_mode": {
    "name": "ipython",
    "version": 3
   },
   "file_extension": ".py",
   "mimetype": "text/x-python",
   "name": "python",
   "nbconvert_exporter": "python",
   "pygments_lexer": "ipython3",
   "version": "3.6.3"
  }
 },
 "nbformat": 4,
 "nbformat_minor": 2
}
