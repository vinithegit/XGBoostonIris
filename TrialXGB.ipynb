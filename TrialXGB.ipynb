{
 "cells": [
  {
   "cell_type": "code",
   "execution_count": 42,
   "metadata": {},
   "outputs": [],
   "source": [
    "# Importing libraries\n",
    "import pandas as pd\n",
    "import numpy as np\n",
    "from pandas import read_csv\n",
    "from xgboost import XGBClassifier\n",
    "from sklearn.preprocessing import LabelEncoder\n",
    "import time\n",
    "from matplotlib import pyplot"
   ]
  },
  {
   "cell_type": "code",
   "execution_count": 62,
   "metadata": {},
   "outputs": [],
   "source": [
    "#loading iris data obtained from http://archive.ics.uci.edu/ml/machine-learning-databases/iris/\n",
    "#change three classes into \n",
    "data=read_csv('iris.data.csv', names=['sepal_len', 'sepal_wid', 'petal_len', 'petal_wid', 'class_name'])\n",
    "data=data.sample(frac=1)\n",
    "dataset= data.values\n"
   ]
  },
  {
   "cell_type": "code",
   "execution_count": 66,
   "metadata": {},
   "outputs": [],
   "source": [
    "X=dataset[:, 0:4]\n",
    "y=dataset[:,-1]\n",
    "#Encode string class as integers\n",
    "label_encoded_y=LabelEncoder().fit_transform(y)"
   ]
  },
  {
   "cell_type": "code",
   "execution_count": 77,
   "metadata": {},
   "outputs": [
    {
     "name": "stdout",
     "output_type": "stream",
     "text": [
      "1 0.03739190101623535\n",
      "2 0.021898984909057617\n",
      "3 0.024487018585205078\n",
      "4 0.02412581443786621\n"
     ]
    },
    {
     "data": {
      "image/png": "[encoded data removed]",
      "text/plain": [
       "<matplotlib.figure.Figure at 0x11348ae10>"
      ]
     },
     "metadata": {},
     "output_type": "display_data"
    }
   ],
   "source": [
    "result=[]\n",
    "num_threads=[1,2,3,4]\n",
    "for n in num_threads:\n",
    "    start=time.time()\n",
    "    model=XGBClassifier(nthread=n)\n",
    "    model.fit(X,label_encoded_y)\n",
    "    elapsed=time.time()-start\n",
    "    print(n,elapsed)\n",
    "    result.append(elapsed)\n",
    "pyplot.plot(num_threads,result)\n",
    "pyplot.ylabel('Speed(secs)')\n",
    "pyplot.xlabel('No of threads')\n",
    "pyplot.title(\"XGBoost training speed vs No of threads\")\n",
    "pyplot.show()"
   ]
  },
  {
   "cell_type": "code",
   "execution_count": 78,
   "metadata": {},
   "outputs": [],
   "source": [
    "from sklearn.model_selection import train_test_split\n",
    "seed=7\n",
    "test_size=0.33\n",
    "X_train, X_test, y_train, y_test=train_test_split(X, label_encoded_y, test_size=test_size, random_state=seed)"
   ]
  },
  {
   "cell_type": "code",
   "execution_count": 79,
   "metadata": {},
   "outputs": [
    {
     "data": {
      "text/plain": [
       "XGBClassifier(base_score=0.5, booster='gbtree', colsample_bylevel=1,\n",
       "       colsample_bytree=1, gamma=0, learning_rate=0.1, max_delta_step=0,\n",
       "       max_depth=3, min_child_weight=1, missing=None, n_estimators=100,\n",
       "       n_jobs=1, nthread=None, objective='multi:softprob', random_state=0,\n",
       "       reg_alpha=0, reg_lambda=1, scale_pos_weight=1, seed=None,\n",
       "       silent=True, subsample=1)"
      ]
     },
     "execution_count": 79,
     "metadata": {},
     "output_type": "execute_result"
    }
   ],
   "source": [
    "model=XGBClassifier()\n",
    "model.fit(X_train, y_train)"
   ]
  },
  {
   "cell_type": "code",
   "execution_count": 85,
   "metadata": {},
   "outputs": [
    {
     "name": "stdout",
     "output_type": "stream",
     "text": [
      "Accuracy: 94.00%\n"
     ]
    }
   ],
   "source": [
    "from sklearn.metrics import accuracy_score\n",
    "y_pred=model.predict(X_test)\n",
    "predictions=[round(value) for value in y_pred]\n",
    "accuracy=accuracy_score(y_test,predictions)\n",
    "print(\"Accuracy: %.2f%%\" % (accuracy *100))"
   ]
  },
  {
   "cell_type": "code",
   "execution_count": 88,
   "metadata": {},
   "outputs": [],
   "source": [
    "#K-Fold validation\n",
    "from sklearn.model_selection import StratifiedKFold\n",
    "from sklearn.model_selection import cross_val_score\n",
    "from sklearn.preprocessing import LabelEncoder\n",
    "kfold=StratifiedKFold(n_splits=10, shuffle=True, random_state=7)"
   ]
  },
  {
   "cell_type": "code",
   "execution_count": 102,
   "metadata": {},
   "outputs": [
    {
     "name": "stdout",
     "output_type": "stream",
     "text": [
      "Single thread XGBoost, parallel thread CV :0.309305 sec\n"
     ]
    }
   ],
   "source": [
    "#Single thread XGBoost, Parallel Thread cross validation\n",
    "start=time.time()\n",
    "model=XGBClassifier(nthreads=1)\n",
    "results=cross_val_score(model, X, label_encoded_y, cv=kfold, scoring='neg_log_loss', n_jobs=-1)\n",
    "elapsed=time.time() -start\n",
    "print(\"Single thread XGBoost, parallel thread CV :%f sec\" %(elapsed))\n"
   ]
  },
  {
   "cell_type": "code",
   "execution_count": 103,
   "metadata": {},
   "outputs": [
    {
     "name": "stdout",
     "output_type": "stream",
     "text": [
      "Parallel thread XGBoost, Single thread CV: 0.281808 sec\n"
     ]
    }
   ],
   "source": [
    "#Parallel thread XGBoost, Single thread CV\n",
    "start=time.time()\n",
    "model=XGBClassifier(nthreads=1)\n",
    "results= cross_val_score(model, X, label_encoded_y,cv=kfold, scoring='neg_log_loss', n_jobs=1)\n",
    "elapsed=time.time()-start\n",
    "print(\"Parallel thread XGBoost, Single thread CV: %f sec\" % (elapsed))"
   ]
  },
  {
   "cell_type": "code",
   "execution_count": 104,
   "metadata": {},
   "outputs": [
    {
     "name": "stdout",
     "output_type": "stream",
     "text": [
      "Parallel thread XGBoost and CV: 1.343938 sec\n"
     ]
    }
   ],
   "source": [
    "#Parallel thread XGBoost and CV\n",
    "start=time.time()\n",
    "model=XGBClassifier(nthread=-1)\n",
    "results=cross_val_score(model, X, label_encoded_y,cv=kfold, scoring='neg_log_loss', n_jobs=-1)\n",
    "elapsed=time.time()-start\n",
    "print(\"Parallel thread XGBoost and CV: %f sec\" % (elapsed))"
   ]
  },
  {
   "cell_type": "code",
   "execution_count": null,
   "metadata": {
    "collapsed": true
   },
   "outputs": [],
   "source": []
  }
 ],
 "metadata": {
  "kernelspec": {
   "display_name": "Python 3",
   "language": "python",
   "name": "python3"
  },
  "language_info": {
   "codemirror_mode": {
    "name": "ipython",
    "version": 3
   },
   "file_extension": ".py",
   "mimetype": "text/x-python",
   "name": "python",
   "nbconvert_exporter": "python",
   "pygments_lexer": "ipython3",
   "version": "3.6.3"
  }
 },
 "nbformat": 4,
 "nbformat_minor": 2
}
